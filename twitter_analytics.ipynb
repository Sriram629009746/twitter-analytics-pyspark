{
  "cells": [
    {
      "cell_type": "markdown",
      "metadata": {
        "id": "3AQt_pCoWueB"
      },
      "source": [
        "## Preliminaries: Introduction to the Dataset\n",
        "We will use a dataset of tweets concerning members of the US congress. The data spans almost a year (from October 3rd, 2018 to September 25th, 2019) covering 576 of the members. Any tweet or retweet posted by the 576 members or directed to them by other Twitter users were collected.\n",
        "\n",
        "Originally there were more than 200 million tweets collected but we have sampled 400,000 tweets for this homework.\n",
        "\n",
        "Below is a summary of all datasets used for this homework:\n",
        "\n",
        "| Dataset                        | Description |\n",
        "| :---                                                       | :---\n",
        "| Congress members               | 576 twitter ids and screen names |\n",
        "| Sample tweets                  |400k sample tweets|\n",
        "| ~~User hashtags~~                  | ~~all pairs of <user, hashtag>~~|\n",
        "| User mentions                  | all pairs of <src_user_id, src_dest_id, frequency> |\n",
        "\n"
      ]
    },
    {
      "cell_type": "markdown",
      "metadata": {
        "id": "tQ8cZb5cg5Im"
      },
      "source": [
        "Following are the steps that you need to execute to install spark. Remember you need to execute them everytime after your runtime is disconnected"
      ]
    },
    {
      "cell_type": "code",
      "execution_count": null,
      "metadata": {
        "id": "3xiQ6bMbXITQ",
        "colab": {
          "base_uri": "https://localhost:8080/"
        },
        "outputId": "9bf01cd1-a20a-4278-dcb0-5fc79c3bc0f6"
      },
      "outputs": [
        {
          "output_type": "stream",
          "name": "stdout",
          "text": [
            "Collecting pyspark\n",
            "  Downloading pyspark-3.2.1.tar.gz (281.4 MB)\n",
            "\u001b[K     |████████████████████████████████| 281.4 MB 32 kB/s \n",
            "\u001b[?25hCollecting py4j==0.10.9.3\n",
            "  Downloading py4j-0.10.9.3-py2.py3-none-any.whl (198 kB)\n",
            "\u001b[K     |████████████████████████████████| 198 kB 62.2 MB/s \n",
            "\u001b[?25hBuilding wheels for collected packages: pyspark\n",
            "  Building wheel for pyspark (setup.py) ... \u001b[?25l\u001b[?25hdone\n",
            "  Created wheel for pyspark: filename=pyspark-3.2.1-py2.py3-none-any.whl size=281853642 sha256=efcb0624122e2052d9e3ba8e9e70307ffc9f565b8f3349721c88c190b1731c1b\n",
            "  Stored in directory: /root/.cache/pip/wheels/9f/f5/07/7cd8017084dce4e93e84e92efd1e1d5334db05f2e83bcef74f\n",
            "Successfully built pyspark\n",
            "Installing collected packages: py4j, pyspark\n",
            "Successfully installed py4j-0.10.9.3 pyspark-3.2.1\n",
            "Collecting graphframes\n",
            "  Downloading graphframes-0.6-py2.py3-none-any.whl (18 kB)\n",
            "Collecting nose\n",
            "  Downloading nose-1.3.7-py3-none-any.whl (154 kB)\n",
            "\u001b[K     |████████████████████████████████| 154 kB 3.1 MB/s \n",
            "\u001b[?25hRequirement already satisfied: numpy in /usr/local/lib/python3.7/dist-packages (from graphframes) (1.21.5)\n",
            "Installing collected packages: nose, graphframes\n",
            "Successfully installed graphframes-0.6 nose-1.3.7\n",
            "The following package was automatically installed and is no longer required:\n",
            "  libnvidia-common-470\n",
            "Use 'apt autoremove' to remove it.\n",
            "The following additional packages will be installed:\n",
            "  openjdk-8-jre-headless\n",
            "Suggested packages:\n",
            "  openjdk-8-demo openjdk-8-source libnss-mdns fonts-dejavu-extra\n",
            "  fonts-ipafont-gothic fonts-ipafont-mincho fonts-wqy-microhei\n",
            "  fonts-wqy-zenhei fonts-indic\n",
            "The following NEW packages will be installed:\n",
            "  openjdk-8-jdk-headless openjdk-8-jre-headless\n",
            "0 upgraded, 2 newly installed, 0 to remove and 39 not upgraded.\n",
            "Need to get 36.5 MB of archives.\n",
            "After this operation, 143 MB of additional disk space will be used.\n",
            "Selecting previously unselected package openjdk-8-jre-headless:amd64.\n",
            "(Reading database ... 155320 files and directories currently installed.)\n",
            "Preparing to unpack .../openjdk-8-jre-headless_8u312-b07-0ubuntu1~18.04_amd64.deb ...\n",
            "Unpacking openjdk-8-jre-headless:amd64 (8u312-b07-0ubuntu1~18.04) ...\n",
            "Selecting previously unselected package openjdk-8-jdk-headless:amd64.\n",
            "Preparing to unpack .../openjdk-8-jdk-headless_8u312-b07-0ubuntu1~18.04_amd64.deb ...\n",
            "Unpacking openjdk-8-jdk-headless:amd64 (8u312-b07-0ubuntu1~18.04) ...\n",
            "Setting up openjdk-8-jre-headless:amd64 (8u312-b07-0ubuntu1~18.04) ...\n",
            "update-alternatives: using /usr/lib/jvm/java-8-openjdk-amd64/jre/bin/orbd to provide /usr/bin/orbd (orbd) in auto mode\n",
            "update-alternatives: using /usr/lib/jvm/java-8-openjdk-amd64/jre/bin/servertool to provide /usr/bin/servertool (servertool) in auto mode\n",
            "update-alternatives: using /usr/lib/jvm/java-8-openjdk-amd64/jre/bin/tnameserv to provide /usr/bin/tnameserv (tnameserv) in auto mode\n",
            "Setting up openjdk-8-jdk-headless:amd64 (8u312-b07-0ubuntu1~18.04) ...\n",
            "update-alternatives: using /usr/lib/jvm/java-8-openjdk-amd64/bin/idlj to provide /usr/bin/idlj (idlj) in auto mode\n",
            "update-alternatives: using /usr/lib/jvm/java-8-openjdk-amd64/bin/wsimport to provide /usr/bin/wsimport (wsimport) in auto mode\n",
            "update-alternatives: using /usr/lib/jvm/java-8-openjdk-amd64/bin/jsadebugd to provide /usr/bin/jsadebugd (jsadebugd) in auto mode\n",
            "update-alternatives: using /usr/lib/jvm/java-8-openjdk-amd64/bin/native2ascii to provide /usr/bin/native2ascii (native2ascii) in auto mode\n",
            "update-alternatives: using /usr/lib/jvm/java-8-openjdk-amd64/bin/javah to provide /usr/bin/javah (javah) in auto mode\n",
            "update-alternatives: using /usr/lib/jvm/java-8-openjdk-amd64/bin/hsdb to provide /usr/bin/hsdb (hsdb) in auto mode\n",
            "update-alternatives: using /usr/lib/jvm/java-8-openjdk-amd64/bin/clhsdb to provide /usr/bin/clhsdb (clhsdb) in auto mode\n",
            "update-alternatives: using /usr/lib/jvm/java-8-openjdk-amd64/bin/xjc to provide /usr/bin/xjc (xjc) in auto mode\n",
            "update-alternatives: using /usr/lib/jvm/java-8-openjdk-amd64/bin/schemagen to provide /usr/bin/schemagen (schemagen) in auto mode\n",
            "update-alternatives: using /usr/lib/jvm/java-8-openjdk-amd64/bin/extcheck to provide /usr/bin/extcheck (extcheck) in auto mode\n",
            "update-alternatives: using /usr/lib/jvm/java-8-openjdk-amd64/bin/jhat to provide /usr/bin/jhat (jhat) in auto mode\n",
            "update-alternatives: using /usr/lib/jvm/java-8-openjdk-amd64/bin/wsgen to provide /usr/bin/wsgen (wsgen) in auto mode\n",
            "  % Total    % Received % Xferd  Average Speed   Time    Time     Time  Current\n",
            "                                 Dload  Upload   Total   Spent    Left  Speed\n",
            "100  242k  100  242k    0     0   807k      0 --:--:-- --:--:-- --:--:--  805k\n"
          ]
        }
      ],
      "source": [
        "!pip install pyspark\n",
        "!pip install graphframes\n",
        "!pip install -U -q PyDrive\n",
        "!apt install openjdk-8-jdk-headless -qq\n",
        "!curl -L -o \"/usr/local/lib/python3.7/dist-packages/pyspark/jars/graphframes-0.8.1-spark3.0-s_2.12.jar\" https://repos.spark-packages.org/graphframes/graphframes/0.8.1-spark3.0-s_2.12/graphframes-0.8.1-spark3.0-s_2.12.jar\n",
        "import os\n",
        "os.environ[\"JAVA_HOME\"] = \"/usr/lib/jvm/java-8-openjdk-amd64\""
      ]
    },
    {
      "cell_type": "markdown",
      "metadata": {
        "id": "LHtukwBPl9Nv"
      },
      "source": [
        "The cell below will download the dataset from S3 to us-congress-tweets directory"
      ]
    },
    {
      "cell_type": "code",
      "execution_count": null,
      "metadata": {
        "id": "AWGZu0fZ5Yv9",
        "colab": {
          "base_uri": "https://localhost:8080/"
        },
        "outputId": "caef17e8-6e78-4b33-93fa-d635f81b714b"
      },
      "outputs": [
        {
          "output_type": "stream",
          "name": "stdout",
          "text": [
            "--2022-03-07 23:40:32--  https://us-congress.s3.amazonaws.com/congress_members.csv\n",
            "Resolving us-congress.s3.amazonaws.com (us-congress.s3.amazonaws.com)... 52.217.198.57\n",
            "Connecting to us-congress.s3.amazonaws.com (us-congress.s3.amazonaws.com)|52.217.198.57|:443... connected.\n",
            "HTTP request sent, awaiting response... 200 OK\n",
            "Length: 13835 (14K) [text/csv]\n",
            "Saving to: ‘us-congress-tweets/congress_members.csv’\n",
            "\n",
            "us-congress-tweets/ 100%[===================>]  13.51K  --.-KB/s    in 0s      \n",
            "\n",
            "2022-03-07 23:40:32 (101 MB/s) - ‘us-congress-tweets/congress_members.csv’ saved [13835/13835]\n",
            "\n",
            "--2022-03-07 23:40:32--  https://us-congress.s3.amazonaws.com/tweets-sample-400k.json\n",
            "Resolving us-congress.s3.amazonaws.com (us-congress.s3.amazonaws.com)... 52.217.198.57\n",
            "Connecting to us-congress.s3.amazonaws.com (us-congress.s3.amazonaws.com)|52.217.198.57|:443... connected.\n",
            "HTTP request sent, awaiting response... 200 OK\n",
            "Length: 202495914 (193M) [application/json]\n",
            "Saving to: ‘us-congress-tweets/tweets-sample-400k.json’\n",
            "\n",
            "us-congress-tweets/ 100%[===================>] 193.11M  95.4MB/s    in 2.0s    \n",
            "\n",
            "2022-03-07 23:40:34 (95.4 MB/s) - ‘us-congress-tweets/tweets-sample-400k.json’ saved [202495914/202495914]\n",
            "\n",
            "--2022-03-07 23:40:34--  https://us-congress.s3.amazonaws.com/user_hashtags-1m.csv\n",
            "Resolving us-congress.s3.amazonaws.com (us-congress.s3.amazonaws.com)... 52.217.198.57\n",
            "Connecting to us-congress.s3.amazonaws.com (us-congress.s3.amazonaws.com)|52.217.198.57|:443... connected.\n",
            "HTTP request sent, awaiting response... 200 OK\n",
            "Length: 25248825 (24M) [text/csv]\n",
            "Saving to: ‘us-congress-tweets/user_hashtags-1m.csv’\n",
            "\n",
            "us-congress-tweets/ 100%[===================>]  24.08M  58.0MB/s    in 0.4s    \n",
            "\n",
            "2022-03-07 23:40:35 (58.0 MB/s) - ‘us-congress-tweets/user_hashtags-1m.csv’ saved [25248825/25248825]\n",
            "\n",
            "--2022-03-07 23:40:35--  https://us-congress.s3.amazonaws.com/user_mentions.csv\n",
            "Resolving us-congress.s3.amazonaws.com (us-congress.s3.amazonaws.com)... 52.217.198.57\n",
            "Connecting to us-congress.s3.amazonaws.com (us-congress.s3.amazonaws.com)|52.217.198.57|:443... connected.\n",
            "HTTP request sent, awaiting response... 200 OK\n",
            "Length: 56151953 (54M) [text/csv]\n",
            "Saving to: ‘us-congress-tweets/user_mentions.csv’\n",
            "\n",
            "us-congress-tweets/ 100%[===================>]  53.55M  70.3MB/s    in 0.8s    \n",
            "\n",
            "2022-03-07 23:40:36 (70.3 MB/s) - ‘us-congress-tweets/user_mentions.csv’ saved [56151953/56151953]\n",
            "\n"
          ]
        }
      ],
      "source": [
        "!mkdir us-congress-tweets\n",
        "!wget https://us-congress.s3.amazonaws.com/congress_members.csv -O us-congress-tweets/congress_members.csv\n",
        "!wget https://us-congress.s3.amazonaws.com/tweets-sample-400k.json -O us-congress-tweets/tweets-sample-400k.json\n",
        "!wget https://us-congress.s3.amazonaws.com/user_hashtags-1m.csv -O us-congress-tweets/user_hashtags-1m.csv\n",
        "!wget https://us-congress.s3.amazonaws.com/user_mentions.csv -O us-congress-tweets/user_mentions.csv"
      ]
    },
    {
      "cell_type": "code",
      "execution_count": null,
      "metadata": {
        "id": "bWOQNZBaXPgs"
      },
      "outputs": [],
      "source": [
        "import pandas as pd\n",
        "import numpy as np\n",
        "import matplotlib.pyplot as plt\n",
        "%matplotlib inline\n",
        "\n",
        "import pyspark\n",
        "from pyspark.sql import *\n",
        "from pyspark.sql.types import *\n",
        "from pyspark import SparkContext, SparkConf"
      ]
    },
    {
      "cell_type": "code",
      "execution_count": null,
      "metadata": {
        "id": "FG8qQdgRXViL"
      },
      "outputs": [],
      "source": [
        "# create a Spark session\n",
        "conf = SparkConf().set(\"spark.ui.port\", \"4050\")\n",
        "\n",
        "# create a Spark context\n",
        "sc = pyspark.SparkContext(conf=conf)\n",
        "spark = SparkSession.builder.getOrCreate()\n"
      ]
    },
    {
      "cell_type": "code",
      "execution_count": null,
      "metadata": {
        "id": "h6qAn1XJWueC",
        "colab": {
          "base_uri": "https://localhost:8080/"
        },
        "outputId": "20f6f6c4-b350-436d-a7c8-2c4b824f60a8"
      },
      "outputs": [
        {
          "output_type": "stream",
          "name": "stdout",
          "text": [
            "+------------------+---------------+\n",
            "|            userid|    screen_name|\n",
            "+------------------+---------------+\n",
            "|         776664410|  RepCartwright|\n",
            "|         240363117|   RepTomMarino|\n",
            "|837722935095930883| RepScottTaylor|\n",
            "|        1069124515|     RepLaMalfa|\n",
            "|818460870573441028|  RepTomGarrett|\n",
            "|         163570705|     repcleaver|\n",
            "|          19739126|      GOPLeader|\n",
            "|          33563161| RepJoseSerrano|\n",
            "|        2861616083|USRepGaryPalmer|\n",
            "|        1074518754| SenatorBaldwin|\n",
            "|         305620929|  Call_Me_Dutch|\n",
            "|         381152398| RepTerriSewell|\n",
            "|         834069080| RepDavidRouzer|\n",
            "|         249787913|  SenatorCarper|\n",
            "|         188019606|        Clyburn|\n",
            "|         217543151|SenatorTimScott|\n",
            "|          39249305| USRepMikeDoyle|\n",
            "|          33537967|   amyklobuchar|\n",
            "|         249410485|  SanfordBishop|\n",
            "|          23124635|    TomColeOK04|\n",
            "+------------------+---------------+\n",
            "only showing top 20 rows\n",
            "\n",
            "Number of congress members tracked: 576\n"
          ]
        }
      ],
      "source": [
        "# First let's read Twitter ids and screen names of the 576 US congress members\n",
        "\n",
        "congress_members = spark.read.csv(\"us-congress-tweets/congress_members.csv\", header=True)\n",
        "congress_members.show()\n",
        "print(\"Number of congress members tracked:\", congress_members.count())"
      ]
    },
    {
      "cell_type": "markdown",
      "metadata": {
        "id": "eOfjGbB6WueF"
      },
      "source": [
        "We can use `spark.read.json(...)` without schema to load the tweets into a dataframe but this will be slow for two reasons:\n",
        "* First, it will make one pass over the data to build a schema of the content, then a second pass to read the content and parse it to the dataframe.\n",
        "* It will read all the content of the Tweet JSON objects but we only need few fields for a given task.\n",
        "\n",
        "Thus we define our own schema something like the following:"
      ]
    },
    {
      "cell_type": "code",
      "execution_count": null,
      "metadata": {
        "id": "JLBnQUluWueG"
      },
      "outputs": [],
      "source": [
        "from pyspark.sql.types import *\n",
        "import pyspark.sql.functions as F\n",
        "twitter_date_format=\"EEE MMM dd HH:mm:ss ZZZZZ yyyy\"\n",
        "\n",
        "user_schema = StructType([\n",
        "    StructField('created_at', TimestampType(), True),\n",
        "    StructField('followers_count', LongType(), True),\n",
        "    StructField('id', LongType(), True),\n",
        "    StructField('name', StringType(), True),\n",
        "    StructField('screen_name', StringType(), True)\n",
        "])\n",
        "\n",
        "hashtag_schema = ArrayType(StructType([StructField('text', StringType(), True)]))\n",
        "user_mentions_schema = ArrayType(StructType([StructField('id', LongType(), True),\n",
        "                                             StructField('screen_name', StringType(), True)]))\n",
        "entities_schema = StructType([\n",
        "    StructField('hashtags', hashtag_schema, True),\n",
        "    StructField('user_mentions', user_mentions_schema, True)\n",
        "    ])\n",
        "\n",
        "retweeted_status_schema =StructType([\n",
        "        StructField(\"id\", LongType(), True),\n",
        "        StructField(\"in_reply_to_user_id\", LongType(), True),\n",
        "        StructField(\"in_reply_to_status_id\", LongType(), True),\n",
        "        StructField(\"created_at\", TimestampType(), True),\n",
        "        StructField(\"user\", user_schema)\n",
        "    ])\n",
        "\n",
        "tweet_schema =StructType([\n",
        "        StructField(\"text\", StringType(), True),\n",
        "        StructField(\"id\", LongType(), True),\n",
        "        StructField(\"in_reply_to_user_id\", LongType(), True),\n",
        "        StructField(\"in_reply_to_status_id\", LongType(), True),\n",
        "        StructField(\"created_at\", TimestampType(), True),\n",
        "        StructField(\"user\", user_schema),\n",
        "        StructField(\"entities\", entities_schema),\n",
        "        StructField(\"retweeted_status\", retweeted_status_schema)\n",
        "    ])"
      ]
    },
    {
      "cell_type": "markdown",
      "metadata": {
        "id": "i6xAE5NXWueH"
      },
      "source": [
        "Now we are ready to read the tweets with `spark.read.json` passing our own schema as follows:"
      ]
    },
    {
      "cell_type": "code",
      "execution_count": null,
      "metadata": {
        "id": "QZa4FIDAWueH",
        "colab": {
          "base_uri": "https://localhost:8080/"
        },
        "outputId": "1e51d17c-728d-4ea9-f3fe-62391b99c2c3"
      },
      "outputs": [
        {
          "output_type": "stream",
          "name": "stdout",
          "text": [
            "root\n",
            " |-- text: string (nullable = true)\n",
            " |-- id: long (nullable = true)\n",
            " |-- in_reply_to_user_id: long (nullable = true)\n",
            " |-- in_reply_to_status_id: long (nullable = true)\n",
            " |-- created_at: timestamp (nullable = true)\n",
            " |-- user: struct (nullable = true)\n",
            " |    |-- created_at: timestamp (nullable = true)\n",
            " |    |-- followers_count: long (nullable = true)\n",
            " |    |-- id: long (nullable = true)\n",
            " |    |-- name: string (nullable = true)\n",
            " |    |-- screen_name: string (nullable = true)\n",
            " |-- entities: struct (nullable = true)\n",
            " |    |-- hashtags: array (nullable = true)\n",
            " |    |    |-- element: struct (containsNull = true)\n",
            " |    |    |    |-- text: string (nullable = true)\n",
            " |    |-- user_mentions: array (nullable = true)\n",
            " |    |    |-- element: struct (containsNull = true)\n",
            " |    |    |    |-- id: long (nullable = true)\n",
            " |    |    |    |-- screen_name: string (nullable = true)\n",
            " |-- retweeted_status: struct (nullable = true)\n",
            " |    |-- id: long (nullable = true)\n",
            " |    |-- in_reply_to_user_id: long (nullable = true)\n",
            " |    |-- in_reply_to_status_id: long (nullable = true)\n",
            " |    |-- created_at: timestamp (nullable = true)\n",
            " |    |-- user: struct (nullable = true)\n",
            " |    |    |-- created_at: timestamp (nullable = true)\n",
            " |    |    |-- followers_count: long (nullable = true)\n",
            " |    |    |-- id: long (nullable = true)\n",
            " |    |    |-- name: string (nullable = true)\n",
            " |    |    |-- screen_name: string (nullable = true)\n",
            " |-- user_id: long (nullable = true)\n",
            "\n"
          ]
        }
      ],
      "source": [
        "tweets = spark.read.option(\"timestampFormat\", twitter_date_format)\\\n",
        "                   .json('us-congress-tweets/tweets-sample-400k.json', tweet_schema)\\\n",
        "                   .withColumn('user_id',F.col('user.id'))\n",
        "tweets.printSchema()"
      ]
    },
    {
      "cell_type": "markdown",
      "metadata": {
        "id": "HyAc0ou-WueI"
      },
      "source": [
        "## Part 1: Let's Fire up Spark for Real\n",
        "\n",
        "Okay, now that we've finally got our data loaded, we are ready to get our hands dirty with Spark. As you know, Spark comes with lots of built-in functions and nice capabilities. Indeed, you will find that to answer the problems below, there are **many** possible approaches. Please refer to the Stanford Spark tutorial we posted alongside this homework. Also feel free to Google around for some Spark resources, but we list a few here to get you started:\n",
        "\n",
        "* https://spark.apache.org/docs/latest/sql-ref-functions-builtin.html#aggregate-functions\n",
        "* https://spark.apache.org/docs/latest/sql-getting-started.html#running-sql-queries-programmatically\n"
      ]
    },
    {
      "cell_type": "markdown",
      "metadata": {
        "id": "EFo2xXh1WueI"
      },
      "source": [
        "### Exploratory Data Analysis\n",
        "\n",
        "a) How many unique users are there?"
      ]
    },
    {
      "cell_type": "code",
      "execution_count": null,
      "metadata": {
        "id": "RZJGG4bzWueK",
        "colab": {
          "base_uri": "https://localhost:8080/"
        },
        "outputId": "600299f3-2821-4d57-ff6a-6863945ee778"
      },
      "outputs": [
        {
          "output_type": "stream",
          "name": "stdout",
          "text": [
            "+------------+\n",
            "|unique_users|\n",
            "+------------+\n",
            "|      198097|\n",
            "+------------+\n",
            "\n"
          ]
        }
      ],
      "source": [
        "# your code here for unique users\n",
        "tweets.createOrReplaceTempView(\"tweets_table\")\n",
        "\n",
        "sqlDF = spark.sql(\"SELECT COUNT (DISTINCT user_id) as unique_users FROM tweets_table\")\n",
        "sqlDF.show()"
      ]
    },
    {
      "cell_type": "markdown",
      "metadata": {
        "id": "zY5_nDCCWueM"
      },
      "source": [
        "b) How many times is the user **GOPLeader** mentioned?\n"
      ]
    },
    {
      "cell_type": "code",
      "source": [
        "# code here\n",
        "from pyspark.sql.functions import explode\n",
        "user_mentions_exploded = tweets.select(explode(tweets.entities.user_mentions).alias('user_mentions_col'))\n",
        "user_mentions_exploded.where(user_mentions_exploded['user_mentions_col'].screen_name == 'GOPLeader').count()"
      ],
      "metadata": {
        "colab": {
          "base_uri": "https://localhost:8080/"
        },
        "id": "AkcOFti63LlK",
        "outputId": "2ad1d8ff-d49f-40b9-a441-d2624f67985f"
      },
      "execution_count": null,
      "outputs": [
        {
          "output_type": "execute_result",
          "data": {
            "text/plain": [
              "4761"
            ]
          },
          "metadata": {},
          "execution_count": 9
        }
      ]
    },
    {
      "cell_type": "markdown",
      "source": [
        "GOPLeader is mentioned 4761 times"
      ],
      "metadata": {
        "id": "f8VwrIJa2jH2"
      }
    },
    {
      "cell_type": "markdown",
      "metadata": {
        "id": "BIwGhG_OWueN"
      },
      "source": [
        "c) Now find the top-5 most mentioned members of Congress."
      ]
    },
    {
      "cell_type": "code",
      "execution_count": null,
      "metadata": {
        "id": "fztHxTpyWueN"
      },
      "outputs": [],
      "source": [
        "# code here\n",
        "congress_members = spark.read.csv('/content/us-congress-tweets/congress_members.csv', header=True, inferSchema=True)"
      ]
    },
    {
      "cell_type": "code",
      "source": [
        "#join user_mentions_exploded and congress_members based on screen_name using inner join\n",
        "joined_df = congress_members.join(user_mentions_exploded, congress_members.screen_name == user_mentions_exploded.user_mentions_col.screen_name)\n",
        "joined_df.groupBy(congress_members.screen_name).count().sort(\"count\", ascending=False).show(5)"
      ],
      "metadata": {
        "colab": {
          "base_uri": "https://localhost:8080/"
        },
        "id": "7RL99Gib-roz",
        "outputId": "8aee0f16-cdfe-4307-acfa-a5844954f4b7"
      },
      "execution_count": null,
      "outputs": [
        {
          "output_type": "stream",
          "name": "stdout",
          "text": [
            "+---------------+-----+\n",
            "|    screen_name|count|\n",
            "+---------------+-----+\n",
            "|   senatemajldr|15021|\n",
            "|LindseyGrahamSC|14412|\n",
            "|     SenSchumer|13738|\n",
            "|  RepAdamSchiff|13288|\n",
            "|     marcorubio| 9957|\n",
            "+---------------+-----+\n",
            "only showing top 5 rows\n",
            "\n"
          ]
        }
      ]
    },
    {
      "cell_type": "markdown",
      "metadata": {
        "id": "kGuKUpyqZ2ZF"
      },
      "source": [
        "d) For each month in the dataset, report the top-5 most mentioned users (across all users in the dataset, not just the members of Congress)."
      ]
    },
    {
      "cell_type": "code",
      "execution_count": null,
      "metadata": {
        "id": "cgdYVF2cZ2un",
        "colab": {
          "base_uri": "https://localhost:8080/"
        },
        "outputId": "904eb303-ce8a-454c-fa7e-8f8fcd68349b"
      },
      "outputs": [
        {
          "output_type": "stream",
          "name": "stdout",
          "text": [
            "Month: 10 / 2018\n",
            "+------------------------------+-----+\n",
            "|user_mentions_col[screen_name]|count|\n",
            "+------------------------------+-----+\n",
            "|                SenatorCollins| 3008|\n",
            "|                     JeffFlake| 1639|\n",
            "|               LindseyGrahamSC| 1560|\n",
            "|               realDonaldTrump| 1500|\n",
            "|                 lisamurkowski| 1432|\n",
            "+------------------------------+-----+\n",
            "only showing top 5 rows\n",
            "\n",
            "Month: 11 / 2018\n",
            "+------------------------------+-----+\n",
            "|user_mentions_col[screen_name]|count|\n",
            "+------------------------------+-----+\n",
            "|               realDonaldTrump| 1797|\n",
            "|                    marcorubio| 1258|\n",
            "|                   RepSwalwell| 1081|\n",
            "|                   NancyPelosi| 1035|\n",
            "|               LindseyGrahamSC| 1004|\n",
            "+------------------------------+-----+\n",
            "only showing top 5 rows\n",
            "\n",
            "Month: 12 / 2018\n",
            "+------------------------------+-----+\n",
            "|user_mentions_col[screen_name]|count|\n",
            "+------------------------------+-----+\n",
            "|               realDonaldTrump| 1895|\n",
            "|                   NancyPelosi| 1724|\n",
            "|                    SenSchumer| 1649|\n",
            "|               LindseyGrahamSC|  999|\n",
            "|                  senatemajldr|  639|\n",
            "+------------------------------+-----+\n",
            "only showing top 5 rows\n",
            "\n",
            "Month: 01 / 2019\n",
            "+------------------------------+-----+\n",
            "|user_mentions_col[screen_name]|count|\n",
            "+------------------------------+-----+\n",
            "|               realDonaldTrump| 4154|\n",
            "|                 SpeakerPelosi| 3318|\n",
            "|                    SenSchumer| 2797|\n",
            "|                  senatemajldr| 2577|\n",
            "|               LindseyGrahamSC| 1818|\n",
            "+------------------------------+-----+\n",
            "only showing top 5 rows\n",
            "\n",
            "Month: 02 / 2019\n",
            "+------------------------------+-----+\n",
            "|user_mentions_col[screen_name]|count|\n",
            "+------------------------------+-----+\n",
            "|                    marcorubio| 1883|\n",
            "|               realDonaldTrump| 1807|\n",
            "|                 RepAdamSchiff| 1172|\n",
            "|                 SpeakerPelosi| 1141|\n",
            "|                    SenSanders| 1083|\n",
            "+------------------------------+-----+\n",
            "only showing top 5 rows\n",
            "\n",
            "Month: 03 / 2019\n",
            "+------------------------------+-----+\n",
            "|user_mentions_col[screen_name]|count|\n",
            "+------------------------------+-----+\n",
            "|                 RepAdamSchiff| 2301|\n",
            "|               realDonaldTrump| 1906|\n",
            "|               LindseyGrahamSC| 1570|\n",
            "|                    marcorubio| 1494|\n",
            "|                 SpeakerPelosi| 1120|\n",
            "+------------------------------+-----+\n",
            "only showing top 5 rows\n",
            "\n",
            "Month: 04 / 2019\n",
            "+------------------------------+-----+\n",
            "|user_mentions_col[screen_name]|count|\n",
            "+------------------------------+-----+\n",
            "|                 RepAdamSchiff| 1843|\n",
            "|               realDonaldTrump| 1410|\n",
            "|                 SpeakerPelosi| 1206|\n",
            "|                    SenSchumer|  967|\n",
            "|                RepJerryNadler|  924|\n",
            "+------------------------------+-----+\n",
            "only showing top 5 rows\n",
            "\n",
            "Month: 05 / 2019\n",
            "+------------------------------+-----+\n",
            "|user_mentions_col[screen_name]|count|\n",
            "+------------------------------+-----+\n",
            "|               LindseyGrahamSC| 1945|\n",
            "|               realDonaldTrump| 1812|\n",
            "|                 SpeakerPelosi| 1481|\n",
            "|                 RepAdamSchiff| 1459|\n",
            "|                   justinamash| 1342|\n",
            "+------------------------------+-----+\n",
            "only showing top 5 rows\n",
            "\n",
            "Month: 06 / 2019\n",
            "+------------------------------+-----+\n",
            "|user_mentions_col[screen_name]|count|\n",
            "+------------------------------+-----+\n",
            "|               realDonaldTrump| 1493|\n",
            "|                    SenSchumer| 1158|\n",
            "|                  senatemajldr| 1008|\n",
            "|               LindseyGrahamSC|  966|\n",
            "|                 SpeakerPelosi|  906|\n",
            "+------------------------------+-----+\n",
            "only showing top 5 rows\n",
            "\n",
            "Month: 07 / 2019\n",
            "+------------------------------+-----+\n",
            "|user_mentions_col[screen_name]|count|\n",
            "+------------------------------+-----+\n",
            "|               realDonaldTrump| 3601|\n",
            "|                   RepCummings| 2213|\n",
            "|                  senatemajldr| 1863|\n",
            "|                 SpeakerPelosi| 1767|\n",
            "|                    SenSchumer| 1710|\n",
            "+------------------------------+-----+\n",
            "only showing top 5 rows\n",
            "\n",
            "Month: 08 / 2019\n",
            "+------------------------------+-----+\n",
            "|user_mentions_col[screen_name]|count|\n",
            "+------------------------------+-----+\n",
            "|                  senatemajldr| 2446|\n",
            "|               realDonaldTrump| 1767|\n",
            "|               LindseyGrahamSC|  836|\n",
            "|                    SenSchumer|  754|\n",
            "|                 RepAdamSchiff|  735|\n",
            "+------------------------------+-----+\n",
            "only showing top 5 rows\n",
            "\n",
            "Month: 09 / 2019\n",
            "+------------------------------+-----+\n",
            "|user_mentions_col[screen_name]|count|\n",
            "+------------------------------+-----+\n",
            "|               realDonaldTrump| 1380|\n",
            "|                  senatemajldr| 1050|\n",
            "|                 SpeakerPelosi|  825|\n",
            "|                 RepAdamSchiff|  720|\n",
            "|                    Jim_Jordan|  624|\n",
            "+------------------------------+-----+\n",
            "only showing top 5 rows\n",
            "\n"
          ]
        }
      ],
      "source": [
        "# code here\n",
        "from pyspark.sql.functions import month, year\n",
        "df_with_month = tweets.withColumn(\"month\", month(\"created_at\"))\n",
        "df_with_month = df_with_month.withColumn(\"year\", year(\"created_at\"))\n",
        "user_mentions_exploded_1 = df_with_month.select(df_with_month['month'], df_with_month['year'], explode(tweets.entities.user_mentions).alias('user_mentions_col'))\n",
        "for mon in range(10,22):\n",
        "  mon = mon % 12\n",
        "  if(mon == 0):\n",
        "    mon = 12\n",
        "  temp_df = user_mentions_exploded_1.filter(user_mentions_exploded_1['month'] == mon)\n",
        "  year = temp_df.head(1)[0][1]\n",
        "  temp_df = temp_df.groupBy(temp_df['user_mentions_col'].screen_name).count().sort(\"count\", ascending=False)\n",
        "  print(\"Month: %02d / %d\" % (mon,year))\n",
        "  temp_df.show(5)\n",
        "\n"
      ]
    },
    {
      "cell_type": "markdown",
      "source": [],
      "metadata": {
        "id": "YxVhddxBK37S"
      }
    },
    {
      "cell_type": "markdown",
      "metadata": {
        "id": "51iGNYmNaUW1"
      },
      "source": [
        "e) Do you notice anything interesting in your monthly analysis?"
      ]
    },
    {
      "cell_type": "markdown",
      "metadata": {
        "id": "jSYkjX5QaYIf"
      },
      "source": [
        "Donald Trump features in each month's top 5 most mentioned person. Infact, he is in the top 2 for almost all months. This shows his popularity."
      ]
    },
    {
      "cell_type": "markdown",
      "metadata": {
        "id": "Ha2vrLOmWueh"
      },
      "source": [
        "## (25 points) Part 2: PageRank\n",
        "Now let's find out who are the most important users in the dataset by running PageRank over the mentions network. For this problem, we'll define a user-mentions network using relations in `us-congress-tweets/user_mentions.csv`. That is, each user is a node in the graph. If user A mentions user B, then there should be an edge from A to B.\n",
        "\n",
        "Hint:\n",
        "* Take a look at GraphFrames: https://graphframes.github.io/graphframes/docs/_site/user-guide.html\n"
      ]
    },
    {
      "cell_type": "code",
      "execution_count": null,
      "metadata": {
        "id": "c1HwmZJCWueh"
      },
      "outputs": [],
      "source": [
        "# your network construction code here\n",
        "user_mentions_df = spark.read.csv('/content/us-congress-tweets/user_mentions.csv',header=True, inferSchema=True)"
      ]
    },
    {
      "cell_type": "code",
      "source": [
        "user_mentions_df.show(5)"
      ],
      "metadata": {
        "colab": {
          "base_uri": "https://localhost:8080/"
        },
        "id": "z7sIsbEDk949",
        "outputId": "87490124-51c2-42f5-ca4a-e156fdabc28f"
      },
      "execution_count": null,
      "outputs": [
        {
          "output_type": "stream",
          "name": "stdout",
          "text": [
            "+------------------+----------+-----+\n",
            "|               src|       dst|count|\n",
            "+------------------+----------+-----+\n",
            "|917194889275699201|1249982359|    1|\n",
            "|917570582555779072| 251918778|    1|\n",
            "|         633674091| 432895323|   48|\n",
            "|913222391416934402| 432895323|  261|\n",
            "|         217574712|  47203904|    1|\n",
            "+------------------+----------+-----+\n",
            "only showing top 5 rows\n",
            "\n"
          ]
        }
      ]
    },
    {
      "cell_type": "code",
      "source": [
        "from graphframes import GraphFrame\n",
        "v = user_mentions_df\\\n",
        "     .select(\"src\")\\\n",
        "     .union(user_mentions_df.select(\"dst\"))\\\n",
        "     .distinct()\\\n",
        "     .withColumnRenamed('src', 'id')\n",
        "\n",
        "g = GraphFrame(v, user_mentions_df)"
      ],
      "metadata": {
        "id": "FGoeSo3h2UHy"
      },
      "execution_count": null,
      "outputs": []
    },
    {
      "cell_type": "markdown",
      "metadata": {
        "id": "Jg0R72ymwiyK"
      },
      "source": [
        "How many vertices are there in your network? And how many edges?"
      ]
    },
    {
      "cell_type": "code",
      "source": [
        "# your code\n",
        "print(\"vertices are: \", g.vertices.count())\n",
        "print(\"edges are: \", g.edges.count())"
      ],
      "metadata": {
        "colab": {
          "base_uri": "https://localhost:8080/"
        },
        "id": "SitNJ9H72fIu",
        "outputId": "15220ce2-ab8e-4428-e01b-6e66539ef68d"
      },
      "execution_count": null,
      "outputs": [
        {
          "output_type": "stream",
          "name": "stdout",
          "text": [
            "vertices are:  1133350\n",
            "edges are:  2064872\n"
          ]
        }
      ]
    },
    {
      "cell_type": "code",
      "execution_count": null,
      "metadata": {
        "id": "Z0_aNONPwotS",
        "colab": {
          "base_uri": "https://localhost:8080/"
        },
        "outputId": "5002ce22-75ac-4d5c-d6e9-be12af583e8b"
      },
      "outputs": [
        {
          "output_type": "stream",
          "name": "stdout",
          "text": [
            "vertices: 1133350\n"
          ]
        }
      ],
      "source": [
        "\n",
        "src_data = user_mentions_df.select('src')\n",
        "dst_data = user_mentions_df.select('dst')\n",
        "union_df = src_data.union(dst_data)\n",
        "print(\"vertices: {}\".format(union_df.distinct().count()))\n",
        "#print(src_data.count(),dst_data.count(), union_df.count() )"
      ]
    },
    {
      "cell_type": "code",
      "source": [
        "#user_mentions_df.agg({'count': 'sum'}).show()\n",
        "print(\"edges: {}\".format(user_mentions_df.count()))"
      ],
      "metadata": {
        "colab": {
          "base_uri": "https://localhost:8080/"
        },
        "id": "M30xqaXCqW2k",
        "outputId": "a7df9794-7496-4b49-9baa-487aec1ab796"
      },
      "execution_count": null,
      "outputs": [
        {
          "output_type": "stream",
          "name": "stdout",
          "text": [
            "edges: 2064872\n"
          ]
        }
      ]
    },
    {
      "cell_type": "markdown",
      "metadata": {
        "id": "_WMaKjp5Zlb8"
      },
      "source": [
        "Now you can run PageRank on the constructed network. Feel free to use the implementation provided as part of GraphFrames. Use a reset (or teleportation probability) of 0.15."
      ]
    },
    {
      "cell_type": "code",
      "execution_count": null,
      "metadata": {
        "id": "YHgs08vfWuei"
      },
      "outputs": [],
      "source": [
        "# your PageRank code here (should be pretty short since you're just calling a function)\n",
        "result = g.pageRank(resetProbability=0.15, maxIter=1)"
      ]
    },
    {
      "cell_type": "markdown",
      "metadata": {
        "id": "XeWYZx8RZz9n"
      },
      "source": [
        "OK, let's see what we found. List the top-10 users based on the PageRank values calculated above."
      ]
    },
    {
      "cell_type": "code",
      "execution_count": null,
      "metadata": {
        "id": "SMtXqwdDcS0V",
        "colab": {
          "base_uri": "https://localhost:8080/"
        },
        "outputId": "edd6b6cb-d6d8-4f8b-beeb-c38221c43600"
      },
      "outputs": [
        {
          "output_type": "stream",
          "name": "stdout",
          "text": [
            "+----------+------------------+\n",
            "|        id|          pagerank|\n",
            "+----------+------------------+\n",
            "|  25073877|15998.354904223614|\n",
            "|  29442313|11734.227490974552|\n",
            "|  15764644|10984.346004007826|\n",
            "| 432895323| 9925.519362961302|\n",
            "|1249982359| 9737.226538010977|\n",
            "|  15745368| 9640.727160557688|\n",
            "|  29501253| 8649.684301812362|\n",
            "|  17494010| 8506.343513880918|\n",
            "| 138203134| 7280.151321627236|\n",
            "|  15808765| 6880.991259525475|\n",
            "+----------+------------------+\n",
            "only showing top 10 rows\n",
            "\n"
          ]
        }
      ],
      "source": [
        "# Top 10 accounts\n",
        "result.vertices.select(\"id\", \"pagerank\").sort(\"pagerank\", ascending=False).show(10)"
      ]
    },
    {
      "cell_type": "code",
      "source": [
        "top10 = (result.vertices.select(\"id\", \"pagerank\").sort(\"pagerank\", ascending=False))\n",
        "top10.join(congress_members, congress_members.userid == top10.id, how='left').show(10)"
      ],
      "metadata": {
        "colab": {
          "base_uri": "https://localhost:8080/"
        },
        "id": "zEzjLKQxT8lJ",
        "outputId": "409386ca-33fe-40d8-a399-3771f96b95e2"
      },
      "execution_count": null,
      "outputs": [
        {
          "output_type": "stream",
          "name": "stdout",
          "text": [
            "+----------+------------------+----------+---------------+\n",
            "|        id|          pagerank|    userid|    screen_name|\n",
            "+----------+------------------+----------+---------------+\n",
            "|  25073877|15998.354904223614|      null|           null|\n",
            "|  29442313|11734.227490974552|  29442313|     SenSanders|\n",
            "|  15764644|10984.346004007826|  15764644|    NancyPelosi|\n",
            "| 432895323| 9925.519362961302| 432895323|LindseyGrahamSC|\n",
            "|1249982359| 9737.226538010977|1249982359|   senatemajldr|\n",
            "|  15745368| 9640.727160557688|  15745368|     marcorubio|\n",
            "|  29501253| 8649.684301812362|  29501253|  RepAdamSchiff|\n",
            "|  17494010| 8506.343513880918|  17494010|     SenSchumer|\n",
            "| 138203134| 7280.151321627236|      null|           null|\n",
            "|  15808765| 6880.991259525475|  15808765|     CoryBooker|\n",
            "+----------+------------------+----------+---------------+\n",
            "only showing top 10 rows\n",
            "\n"
          ]
        }
      ]
    },
    {
      "cell_type": "code",
      "source": [
        "print(user_mentions_exploded.filter(\"user_mentions_col.id = '25073877'\").head(1))\n",
        "print(user_mentions_exploded.filter(\"user_mentions_col.id = '138203134'\").head(1))"
      ],
      "metadata": {
        "colab": {
          "base_uri": "https://localhost:8080/"
        },
        "id": "tlE673kPU0Wa",
        "outputId": "8cc1dc1b-0c6b-480b-d941-cc22483bf43c"
      },
      "execution_count": null,
      "outputs": [
        {
          "output_type": "stream",
          "name": "stdout",
          "text": [
            "[Row(user_mentions_col=Row(id=25073877, screen_name='realDonaldTrump'))]\n",
            "[Row(user_mentions_col=Row(id=138203134, screen_name='AOC'))]\n"
          ]
        }
      ]
    },
    {
      "cell_type": "markdown",
      "metadata": {
        "id": "ZuX2j4A-aFvz"
      },
      "source": [
        "What do you observe? are the top 10 users congress members? are there outsiders?\n",
        "\n",
        "Hint: You can use https://twitter.com/intent/user?user_id=? to find out more info about the users"
      ]
    },
    {
      "cell_type": "markdown",
      "metadata": {
        "id": "DN7PbajvzOea"
      },
      "source": [
        "**Analysis:**\n",
        "From above results, it is seen that out of the top 10 ranked users, 8 are congress members. Other two outsiders are Donald Trump and AOC."
      ]
    },
    {
      "cell_type": "markdown",
      "source": [
        "For the above results, we can see that the estimated value and the actual value of similarity for which probability is 1/2 are pretty close to each other."
      ],
      "metadata": {
        "id": "6gux_S4mKzQA"
      }
    }
  ],
  "metadata": {
    "colab": {
      "provenance": []
    },
    "kernelspec": {
      "display_name": "Python 3",
      "language": "python",
      "name": "python3"
    },
    "language_info": {
      "codemirror_mode": {
        "name": "ipython",
        "version": 3
      },
      "file_extension": ".py",
      "mimetype": "text/x-python",
      "name": "python",
      "nbconvert_exporter": "python",
      "pygments_lexer": "ipython3",
      "version": "3.8.8"
    }
  },
  "nbformat": 4,
  "nbformat_minor": 0
}